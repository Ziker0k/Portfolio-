{
 "cells": [
  {
   "cell_type": "code",
   "execution_count": 6,
   "id": "c433a662",
   "metadata": {},
   "outputs": [
    {
     "name": "stdout",
     "output_type": "stream",
     "text": [
      "Интеграл =  0.19002885251166834\n",
      "21\n",
      "Интеграл посчитан c точностью: 6.357840420800898e-09 , что выше, чем заданная точность 1e-08\n"
     ]
    },
    {
     "data": {
      "image/png": "[encoded data removed]",
      "text/plain": [
       "<Figure size 432x288 with 1 Axes>"
      ]
     },
     "metadata": {
      "needs_background": "light"
     },
     "output_type": "display_data"
    }
   ],
   "source": [
    "import csv\n",
    "import numpy as np\n",
    "import matplotlib.pyplot as plt \n",
    "from scipy.interpolate import CubicSpline\n",
    "from array import *\n",
    "import math as math\n",
    "\n",
    "Func = list()\n",
    "\n",
    "with open(\"text.txt\") as r_file: #Читаем аргументы и значения функции\n",
    "    file_reader = csv.reader(r_file, delimiter = '\\t')\n",
    "    for row in file_reader:\n",
    "        Func.append(row)\n",
    "        \n",
    "FuncArr = np.zeros((len(Func), len(Func[0])))\n",
    "for i in range(0, len(FuncArr)):\n",
    "    for j in range(len(FuncArr[0])):\n",
    "        FuncArr[i][j] = float(Func[i][j]) #Заполняем массив аргументов и значений функции\n",
    "xx = FuncArr[:,0] #Столбец аргументов\n",
    "yy = FuncArr[:,1] #Столбец значений функции\n",
    "\n",
    "cs = CubicSpline(xx,yy)\n",
    "\n",
    "e = 0.00000001   #Заданная точность\n",
    "a = 0.   #Нижняя граница интегрирования\n",
    "b = 2.   #Верхняя граница интегрирования\n",
    "\n",
    "def Sympson(a,b,h):\n",
    " \n",
    "    x = np.arange(0.,2.+h, h).tolist()\n",
    "    k = 0\n",
    "    fx = []  #Создаем массив значений функции f(x)\n",
    "\n",
    "    css = cs(x)\n",
    "\n",
    "    for i in x:\n",
    "        zn = css[k]\n",
    "        k += 1\n",
    "        fx.append(zn) #Заполняем список fx значениями функции\n",
    "    \n",
    "    Ih1_s1 = 0  #Вспомогательная переменная, элемент формулы Симпсона\n",
    "    Ih1_s2 = 0  #Вспомогательная переменная, элемент формулы Симпсона\n",
    "    \n",
    "    for i in range(0,k):\n",
    "        \n",
    "        if i%2 != 0:\n",
    "            Ih1_s1 += fx[i] #Ссумируем значения функции f(x) в точках с четным номером\n",
    "        if i%2 == 0:\n",
    "            Ih1_s2 += fx[i] #Ссумируем значения функции f(x) в точках с нечетным номером\n",
    "            \n",
    "    Ih = h/3.*(fx[0]+fx[k-1]+4*(Ih1_s1)+2*(Ih1_s2))  #Считаем интеграл с шагом h\n",
    "    \n",
    "    return Ih,x\n",
    "\n",
    "h = 0.1 #Начальный шаг интегрирования\n",
    "Ihprev = 0  #Переменная для записи значения с предыдущим шагом\n",
    "count = 0 #Счетчик итераций\n",
    "Ih,x = Sympson(a,b,h)\n",
    "\n",
    "while(abs(Ih - Ihprev) > e): #Условия окончания расчётов по правилу Рунге\n",
    "    h = h/2\n",
    "    Ihprev = Ih\n",
    "    Ih,x = Sympson(a,b,h)\n",
    "    count+=1\n",
    "\n",
    "print(\"Интеграл = \",Ih)\n",
    "print(count)\n",
    "Ih_pogreshnost = abs(Ih-Ihprev)  #Оценка точности проведенных вычислений методом Ругне Кутты\n",
    " \n",
    "if Ih_pogreshnost < e:\n",
    "    print('Интеграл посчитан c точностью:', Ih_pogreshnost, ', что выше, чем заданная точность', e)\n",
    "\n",
    "plt.plot(x,cs(x))\n",
    "plt.scatter(xx,yy)\n",
    "plt.grid()\n",
    "#plt.scatter(x,cs(x))\n",
    "plt.show()\n",
    "\n"
   ]
  },
  {
   "cell_type": "code",
   "execution_count": null,
   "id": "4c90e036",
   "metadata": {},
   "outputs": [],
   "source": []
  },
  {
   "cell_type": "code",
   "execution_count": null,
   "id": "279b2b76",
   "metadata": {},
   "outputs": [],
   "source": []
  }
 ],
 "metadata": {
  "kernelspec": {
   "display_name": "Python 3 (ipykernel)",
   "language": "python",
   "name": "python3"
  },
  "language_info": {
   "codemirror_mode": {
    "name": "ipython",
    "version": 3
   },
   "file_extension": ".py",
   "mimetype": "text/x-python",
   "name": "python",
   "nbconvert_exporter": "python",
   "pygments_lexer": "ipython3",
   "version": "3.9.7"
  }
 },
 "nbformat": 4,
 "nbformat_minor": 5
}
